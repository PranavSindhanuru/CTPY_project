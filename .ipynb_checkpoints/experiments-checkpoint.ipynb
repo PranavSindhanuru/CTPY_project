{
 "cells": [
  {
   "cell_type": "code",
   "execution_count": 7,
   "id": "f1c7dc12",
   "metadata": {},
   "outputs": [
    {
     "name": "stdout",
     "output_type": "stream",
     "text": [
      "3\n",
      "\n"
     ]
    }
   ],
   "source": [
    "# importing required modules\n",
    "import PyPDF2\n",
    "\n",
    "# creating a pdf file object\n",
    "pdfFileObj = open('sample.pdf', 'rb')\n",
    "\n",
    "# creating a pdf reader object\n",
    "pdfReader = PyPDF2.PdfFileReader(pdfFileObj)\n",
    "\n",
    "# printing number of pages in pdf file\n",
    "print(pdfReader.numPages)\n",
    "\n",
    "# creating a page object\n",
    "pageObj = pdfReader.getPage(0)\n",
    "\n",
    "# extracting text from page\n",
    "print(pageObj.extractText())\n",
    "\n",
    "# closing the pdf file object\n",
    "pdfFileObj.close()\n"
   ]
  },
  {
   "cell_type": "code",
   "execution_count": 8,
   "id": "fe8078aa",
   "metadata": {},
   "outputs": [
    {
     "name": "stdout",
     "output_type": "stream",
     "text": [
      "3\n",
      "\n"
     ]
    }
   ],
   "source": [
    "# importing required modules\n",
    "import PyPDF2\n",
    "\t\n",
    "# creating a pdf file object\n",
    "pdfFileObj = open('sample.pdf', 'rb')\n",
    "\t\n",
    "# creating a pdf reader object\n",
    "pdfReader = PyPDF2.PdfFileReader(pdfFileObj)\n",
    "\t\n",
    "# printing number of pages in pdf file\n",
    "print(pdfReader.numPages)\n",
    "\t\n",
    "# creating a page object\n",
    "pageObj = pdfReader.getPage(0)\n",
    "\t\n",
    "# extracting text from page\n",
    "print(pageObj.extractText())\n",
    "\t\n",
    "# closing the pdf file object\n",
    "pdfFileObj.close()\n"
   ]
  },
  {
   "cell_type": "code",
   "execution_count": 14,
   "id": "b438a2f4",
   "metadata": {},
   "outputs": [
    {
     "name": "stdout",
     "output_type": "stream",
     "text": [
      "3\n",
      "\n",
      "\n",
      "\n"
     ]
    }
   ],
   "source": [
    "import PyPDF2\n",
    "pdfFileObject = open('sample.pdf', 'rb')\n",
    "pdfReader = PyPDF2.PdfFileReader(pdfFileObject)\n",
    "count = pdfReader.numPages\n",
    "print(count)\n",
    "for i in range(count):\n",
    "    page = pdfReader.getPage(i)\n",
    "    print(page.extractText())"
   ]
  },
  {
   "cell_type": "code",
   "execution_count": 17,
   "id": "35e3fbdd",
   "metadata": {},
   "outputs": [
    {
     "name": "stdout",
     "output_type": "stream",
     "text": [
      "b''\n",
      "b''\n",
      "b''\n"
     ]
    }
   ],
   "source": [
    "import PyPDF2\n",
    "import collections\n",
    "pdf_file = open('sample.pdf', 'rb')\n",
    "read_pdf = PyPDF2.PdfFileReader(pdf_file)\n",
    "number_of_pages = read_pdf.getNumPages()\n",
    "c = collections.Counter(range(number_of_pages))\n",
    "for i in c:\n",
    "   page = read_pdf.getPage(i)\n",
    "   page_content = page.extractText()\n",
    "   print(page_content.encode('utf-8'))"
   ]
  },
  {
   "cell_type": "code",
   "execution_count": 18,
   "id": "27cea1bc",
   "metadata": {},
   "outputs": [
    {
     "name": "stdout",
     "output_type": "stream",
     "text": [
      "Printing the document info: {'/Title': 'LBS Essays', '/Producer': 'Skia/PDF m95 Google Docs Renderer'}\n",
      "- - - - - - - - - - - - - - - - - - - -\n",
      "Number of Pages: 3\n"
     ]
    }
   ],
   "source": [
    "from PyPDF2 import PdfFileReader\n",
    "\n",
    "# open the PDF file\n",
    "pdfFile = open('sample.pdf', 'rb')\n",
    "\n",
    "# create PDFFileReader object to read the file\n",
    "pdfReader = PdfFileReader(pdfFile)\n",
    "\n",
    "print(\"Printing the document info: \" + str(pdfReader.getDocumentInfo()))\n",
    "print(\"- - - - - - - - - - - - - - - - - - - -\")\n",
    "print(\"Number of Pages: \" + str(pdfReader.getNumPages()))\n",
    "\n",
    "# close the PDF file object\n",
    "pdfFile.close()"
   ]
  },
  {
   "cell_type": "code",
   "execution_count": 20,
   "id": "5b9475db",
   "metadata": {},
   "outputs": [
    {
     "name": "stdout",
     "output_type": "stream",
     "text": [
      "PDF File name: CTPY_review_team_2\n",
      "PDF File created by: Google\n",
      "- - - - - - - - - - - - - - - - - - - -\n",
      "Page Number: 0\n",
      "- - - - - - - - - - - - - - - - - - - -\n",
      "\n",
      "- - - - - - - - - - - - - - - - - - - -\n",
      "Page Number: 1\n",
      "- - - - - - - - - - - - - - - - - - - -\n",
      "\n",
      "- - - - - - - - - - - - - - - - - - - -\n",
      "Page Number: 2\n",
      "- - - - - - - - - - - - - - - - - - - -\n",
      "\n",
      "- - - - - - - - - - - - - - - - - - - -\n",
      "Page Number: 3\n",
      "- - - - - - - - - - - - - - - - - - - -\n",
      "\n",
      "- - - - - - - - - - - - - - - - - - - -\n",
      "Page Number: 4\n",
      "- - - - - - - - - - - - - - - - - - - -\n",
      "\n",
      "- - - - - - - - - - - - - - - - - - - -\n",
      "Page Number: 5\n",
      "- - - - - - - - - - - - - - - - - - - -\n",
      "\n",
      "- - - - - - - - - - - - - - - - - - - -\n",
      "Page Number: 6\n",
      "- - - - - - - - - - - - - - - - - - - -\n",
      "\n",
      "- - - - - - - - - - - - - - - - - - - -\n",
      "Page Number: 7\n",
      "- - - - - - - - - - - - - - - - - - - -\n",
      "\n",
      "- - - - - - - - - - - - - - - - - - - -\n",
      "Page Number: 8\n",
      "- - - - - - - - - - - - - - - - - - - -\n",
      "\n",
      "- - - - - - - - - - - - - - - - - - - -\n"
     ]
    }
   ],
   "source": [
    "from PyPDF2 import PdfFileReader\n",
    "\n",
    "# open the PDF file\n",
    "pdfFile = open(r'C:\\Users\\prana\\Downloads\\CTPY_review_team_2.pdf', 'rb')\n",
    "\n",
    "# create PDFFileReader object to read the file\n",
    "pdfReader = PdfFileReader(pdfFile)\n",
    "\n",
    "print(\"PDF File name: \" + str(pdfReader.getDocumentInfo().title))\n",
    "print(\"PDF File created by: \" + str(pdfReader.getDocumentInfo().creator))\n",
    "print(\"- - - - - - - - - - - - - - - - - - - -\")\n",
    "\n",
    "numOfPages = pdfReader.getNumPages()\n",
    "\n",
    "for i in range(0, numOfPages):\n",
    "\tprint(\"Page Number: \" + str(i))\n",
    "\tprint(\"- - - - - - - - - - - - - - - - - - - -\")\n",
    "\tpageObj = pdfReader.getPage(i)\n",
    "\tprint(pageObj.extractText())\n",
    "\tprint(\"- - - - - - - - - - - - - - - - - - - -\")\n",
    "# close the PDF file object\n",
    "pdfFile.close()"
   ]
  },
  {
   "cell_type": "code",
   "execution_count": null,
   "id": "2f594b5b",
   "metadata": {},
   "outputs": [],
   "source": []
  }
 ],
 "metadata": {
  "kernelspec": {
   "display_name": "Python 3 (ipykernel)",
   "language": "python",
   "name": "python3"
  },
  "language_info": {
   "codemirror_mode": {
    "name": "ipython",
    "version": 3
   },
   "file_extension": ".py",
   "mimetype": "text/x-python",
   "name": "python",
   "nbconvert_exporter": "python",
   "pygments_lexer": "ipython3",
   "version": "3.7.9"
  }
 },
 "nbformat": 4,
 "nbformat_minor": 5
}
