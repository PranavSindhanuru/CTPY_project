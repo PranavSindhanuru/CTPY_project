{
 "cells": [
  {
   "cell_type": "code",
   "execution_count": 6,
   "id": "94a033bb",
   "metadata": {},
   "outputs": [
    {
     "name": "stdout",
     "output_type": "stream",
     "text": [
      "2. MAIN. How would you describe yourself? (Maximum 200 words) *\n",
      "3. MAIN. Describe all types of extracurricular activities in which you have been or are still\n",
      "involved for a significant amount of time (clubs, sports, music, arts, etc.). How are you\n",
      "enriched by these activities? (Maximum 200 words) *\n",
      "4. MAIN. Tell us what you have been doing since graduating from secondary education and\n",
      "what motivated your choices? (Maximum 200 words) *\n",
      "5. MAIN. Please give us all the information about your activities and occupation from now\n",
      "until the start of programme. (Maximum 40 words) *\n",
      "6. Share your short and long-term career aspirations with a MIM from INSEAD. (Maximum\n",
      "100 words) *\n",
      "HEC Paris\n",
      "1. MAIN. Why are you applying to HEC Paris and this program? Please include your career\n",
      "goals in this essay (450 words max)* (diff for 2 programs)\n",
      "2. MAIN. What is Leadership to you and how do you recognize a great leader? Please\n",
      "include personal example(s). (600 words max)*\n",
      "3. MAIN. In recent weeks, what business issue or news topic have you found inspiring? (300\n",
      "words max)*\n",
      "4. MAIN. (MSc Marketing). What did you do recently that impacted your community in a\n",
      "favorable manner? (300 words)*\n",
      "ESSEC\n",
      "1. MAIN. Letter of Motivation\n",
      "Miscellaneous Store:\n",
      "Archive sentences:\n",
      "He has been a great teacher and mentor to me even outside classroom and I share a good\n",
      "relationship with him even after graduating college.\n",
      "I've taken five of Dr. Anup Tripathi's courses during my bachelor's degree. He has also been\n",
      "my major project guide and supervisor for an entire year of my bachelor's and has greatly\n",
      "supported me for my academics and research. Dr. Tripathi has known me well and\n",
      "long-enough to evaluate my abilities and hence the decision of choosing him as my referee.\n",
      "During my bachelor's degree, I took five of Dr. Anup Tripathi's classes. He was also my main\n",
      "project advisor and supervisor for a whole year of my bachelor's degree, and he has been a\n"
     ]
    }
   ],
   "source": [
    "import pdfplumber\n",
    "\n",
    "with pdfplumber.open(\"result.pdf\") as pdf:\n",
    "    first_page = pdf.pages[1]\n",
    "    print(first_page.extract_text())\n",
    "    \n"
   ]
  },
  {
   "cell_type": "markdown",
   "id": "b3a87aac",
   "metadata": {},
   "source": [
    "↓ this merges two files"
   ]
  },
  {
   "cell_type": "code",
   "execution_count": 5,
   "id": "488161f6",
   "metadata": {},
   "outputs": [],
   "source": [
    "from PyPDF2 import PdfFileMerger\n",
    "\n",
    "pdfs = ['sample_1.pdf', 'sample_2.pdf']\n",
    "\n",
    "merger = PdfFileMerger()\n",
    "\n",
    "for pdf in pdfs:\n",
    "    merger.append(pdf)\n",
    "\n",
    "merger.write(\"result.pdf\")\n",
    "merger.close()"
   ]
  },
  {
   "cell_type": "code",
   "execution_count": null,
   "id": "bd3d78a6",
   "metadata": {},
   "outputs": [],
   "source": []
  },
  {
   "cell_type": "markdown",
   "id": "da600a94",
   "metadata": {},
   "source": []
  },
  {
   "cell_type": "code",
   "execution_count": 5,
   "id": "f827e27d",
   "metadata": {},
   "outputs": [
    {
     "name": "stdout",
     "output_type": "stream",
     "text": [
      "3\n"
     ]
    }
   ],
   "source": [
    "from PyPDF2 import PdfFileWriter, PdfFileReader\n",
    "\n",
    "output = PdfFileWriter()\n",
    "input1 = PdfFileReader(open(\"sample.pdf\", \"rb\"))\n",
    "\n",
    "print(f'{input1.getNumPages()}')\n",
    "\n",
    "output.addPage(input1.getPage(0))\n",
    "output.addPage(input1.getPage(1).rotateClockwise(90))\n",
    "\n",
    "with open(\"result.pdf\", \"wb\") as f:\n",
    "    output.write(f)\n"
   ]
  },
  {
   "cell_type": "code",
   "execution_count": null,
   "id": "871d6fec",
   "metadata": {},
   "outputs": [],
   "source": []
  },
  {
   "cell_type": "code",
   "execution_count": null,
   "id": "76076601",
   "metadata": {},
   "outputs": [],
   "source": []
  },
  {
   "cell_type": "code",
   "execution_count": null,
   "id": "e991a277",
   "metadata": {},
   "outputs": [],
   "source": []
  }
 ],
 "metadata": {
  "kernelspec": {
   "display_name": "Python 3 (ipykernel)",
   "language": "python",
   "name": "python3"
  },
  "language_info": {
   "codemirror_mode": {
    "name": "ipython",
    "version": 3
   },
   "file_extension": ".py",
   "mimetype": "text/x-python",
   "name": "python",
   "nbconvert_exporter": "python",
   "pygments_lexer": "ipython3",
   "version": "3.7.9"
  }
 },
 "nbformat": 4,
 "nbformat_minor": 5
}
