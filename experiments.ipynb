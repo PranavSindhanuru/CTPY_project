{
 "cells": [
  {
   "cell_type": "code",
   "execution_count": 22,
   "id": "94a033bb",
   "metadata": {},
   "outputs": [
    {
     "name": "stdout",
     "output_type": "stream",
     "text": [
      "LBS\n",
      "1. If applicable, please explain any reasons for academic underperformance.*\n",
      "2. Have you ever received formal disciplinary action from an academic institution or been\n",
      "forced to withdraw from a course of study? If so, you must declare the information here.*\n",
      "3. Please detail any work experience that you have not highlighted already on your CV:\n",
      "4. Please detail your plans from now to the start of the programme, detailing any further work\n",
      "experience, travel, and/or further qualifications.*\n",
      "5. Please outline your experience of working or studying in an English-speaking\n",
      "environment. Do you plan to take further English language tuition before the programme\n",
      "starts?\n",
      "6. Please tell us which country/countries you hope to work in after graduation.*\n",
      "7. In 300 words or less, please describe your post-Programme career goals, telling us your\n",
      "ideal sector, role and function; and your motivation for this goal.*\n",
      "8. In 300 words or less, please describe your alternative career goals, telling us how you\n",
      "would respond in a challenging job market, how would you expand your job search to other\n",
      "roles and locations if your primary goal is unsuccessful.*\n",
      "9. In 150 words (or less), tell us about a hobby or main interest.*\n",
      "10. In 300 words or less, please tell us how will your previous experience(s) enable you to\n",
      "thrive within our School's diverse and international community?*\n",
      "11. How did you first hear about London Business School? (Max 200 characters)\n",
      "12. How did you hear about this programme? (Max 100 characters)*\n",
      "13. How have you connected with the LBS community?*\n",
      "14. MAIN. What learning outcomes are you aiming to achieve as part of your Masters in\n",
      "Management programme? What challenge(s) might you encounter? (500 words)\n",
      "15. MAIN. During your time as a Masters in Management student, how will you contribute to\n",
      "the School community? (400 words)\n",
      "INSEAD\n",
      "1. Please briefly explain any time gaps (2 months or more) since leaving high school that are\n",
      "unaccounted for in your application (40 words maximum).\n"
     ]
    }
   ],
   "source": [
    "import pdfplumber\n",
    "\n",
    "with pdfplumber.open(\"sample.pdf\") as pdf:\n",
    "    first_page = pdf.pages[0]\n",
    "    print(first_page.extract_text())\n",
    "    \n"
   ]
  },
  {
   "cell_type": "code",
   "execution_count": null,
   "id": "92ce4e1a",
   "metadata": {},
   "outputs": [],
   "source": []
  },
  {
   "cell_type": "code",
   "execution_count": null,
   "id": "07018a4b",
   "metadata": {},
   "outputs": [],
   "source": []
  },
  {
   "cell_type": "code",
   "execution_count": null,
   "id": "871d6fec",
   "metadata": {},
   "outputs": [],
   "source": []
  },
  {
   "cell_type": "code",
   "execution_count": null,
   "id": "76076601",
   "metadata": {},
   "outputs": [],
   "source": []
  },
  {
   "cell_type": "code",
   "execution_count": null,
   "id": "e991a277",
   "metadata": {},
   "outputs": [],
   "source": []
  }
 ],
 "metadata": {
  "kernelspec": {
   "display_name": "Python 3 (ipykernel)",
   "language": "python",
   "name": "python3"
  },
  "language_info": {
   "codemirror_mode": {
    "name": "ipython",
    "version": 3
   },
   "file_extension": ".py",
   "mimetype": "text/x-python",
   "name": "python",
   "nbconvert_exporter": "python",
   "pygments_lexer": "ipython3",
   "version": "3.7.9"
  }
 },
 "nbformat": 4,
 "nbformat_minor": 5
}
