{
 "cells": [
  {
   "cell_type": "code",
   "execution_count": 7,
   "id": "48c88890",
   "metadata": {},
   "outputs": [
    {
     "name": "stdout",
     "output_type": "stream",
     "text": [
      "3\n",
      "\n"
     ]
    }
   ],
   "source": [
    "# importing required modules\n",
    "import PyPDF2\n",
    "\n",
    "# creating a pdf file object\n",
    "pdfFileObj = open('sample.pdf', 'rb')\n",
    "\n",
    "# creating a pdf reader object\n",
    "pdfReader = PyPDF2.PdfFileReader(pdfFileObj)\n",
    "\n",
    "# printing number of pages in pdf file\n",
    "print(pdfReader.numPages)\n",
    "\n",
    "# creating a page object\n",
    "pageObj = pdfReader.getPage(0)\n",
    "\n",
    "# extracting text from page\n",
    "print(pageObj.extractText())\n",
    "\n",
    "# closing the pdf file object\n",
    "pdfFileObj.close()\n"
   ]
  },
  {
   "cell_type": "code",
   "execution_count": 8,
   "id": "b856ffac",
   "metadata": {},
   "outputs": [
    {
     "name": "stdout",
     "output_type": "stream",
     "text": [
      "3\n",
      "\n"
     ]
    }
   ],
   "source": [
    "# importing required modules\n",
    "import PyPDF2\n",
    "\t\n",
    "# creating a pdf file object\n",
    "pdfFileObj = open('sample.pdf', 'rb')\n",
    "\t\n",
    "# creating a pdf reader object\n",
    "pdfReader = PyPDF2.PdfFileReader(pdfFileObj)\n",
    "\t\n",
    "# printing number of pages in pdf file\n",
    "print(pdfReader.numPages)\n",
    "\t\n",
    "# creating a page object\n",
    "pageObj = pdfReader.getPage(0)\n",
    "\t\n",
    "# extracting text from page\n",
    "print(pageObj.extractText())\n",
    "\t\n",
    "# closing the pdf file object\n",
    "pdfFileObj.close()\n"
   ]
  },
  {
   "cell_type": "code",
   "execution_count": 14,
   "id": "3ea60813",
   "metadata": {},
   "outputs": [
    {
     "name": "stdout",
     "output_type": "stream",
     "text": [
      "3\n",
      "\n",
      "\n",
      "\n"
     ]
    }
   ],
   "source": [
    "import PyPDF2\n",
    "pdfFileObject = open('sample.pdf', 'rb')\n",
    "pdfReader = PyPDF2.PdfFileReader(pdfFileObject)\n",
    "count = pdfReader.numPages\n",
    "print(count)\n",
    "for i in range(count):\n",
    "    page = pdfReader.getPage(i)\n",
    "    print(page.extractText())"
   ]
  },
  {
   "cell_type": "code",
   "execution_count": 17,
   "id": "9db68054",
   "metadata": {},
   "outputs": [
    {
     "name": "stdout",
     "output_type": "stream",
     "text": [
      "b''\n",
      "b''\n",
      "b''\n"
     ]
    }
   ],
   "source": [
    "import PyPDF2\n",
    "import collections\n",
    "pdf_file = open('sample.pdf', 'rb')\n",
    "read_pdf = PyPDF2.PdfFileReader(pdf_file)\n",
    "number_of_pages = read_pdf.getNumPages()\n",
    "c = collections.Counter(range(number_of_pages))\n",
    "for i in c:\n",
    "   page = read_pdf.getPage(i)\n",
    "   page_content = page.extractText()\n",
    "   print(page_content.encode('utf-8'))"
   ]
  },
  {
   "cell_type": "code",
   "execution_count": 18,
   "id": "3de54696",
   "metadata": {},
   "outputs": [
    {
     "name": "stdout",
     "output_type": "stream",
     "text": [
      "Printing the document info: {'/Title': 'LBS Essays', '/Producer': 'Skia/PDF m95 Google Docs Renderer'}\n",
      "- - - - - - - - - - - - - - - - - - - -\n",
      "Number of Pages: 3\n"
     ]
    }
   ],
   "source": [
    "from PyPDF2 import PdfFileReader\n",
    "\n",
    "# open the PDF file\n",
    "pdfFile = open('sample.pdf', 'rb')\n",
    "\n",
    "# create PDFFileReader object to read the file\n",
    "pdfReader = PdfFileReader(pdfFile)\n",
    "\n",
    "print(\"Printing the document info: \" + str(pdfReader.getDocumentInfo()))\n",
    "print(\"- - - - - - - - - - - - - - - - - - - -\")\n",
    "print(\"Number of Pages: \" + str(pdfReader.getNumPages()))\n",
    "\n",
    "# close the PDF file object\n",
    "pdfFile.close()"
   ]
  },
  {
   "cell_type": "code",
   "execution_count": 20,
   "id": "89d0f215",
   "metadata": {},
   "outputs": [
    {
     "name": "stdout",
     "output_type": "stream",
     "text": [
      "PDF File name: CTPY_review_team_2\n",
      "PDF File created by: Google\n",
      "- - - - - - - - - - - - - - - - - - - -\n",
      "Page Number: 0\n",
      "- - - - - - - - - - - - - - - - - - - -\n",
      "\n",
      "- - - - - - - - - - - - - - - - - - - -\n",
      "Page Number: 1\n",
      "- - - - - - - - - - - - - - - - - - - -\n",
      "\n",
      "- - - - - - - - - - - - - - - - - - - -\n",
      "Page Number: 2\n",
      "- - - - - - - - - - - - - - - - - - - -\n",
      "\n",
      "- - - - - - - - - - - - - - - - - - - -\n",
      "Page Number: 3\n",
      "- - - - - - - - - - - - - - - - - - - -\n",
      "\n",
      "- - - - - - - - - - - - - - - - - - - -\n",
      "Page Number: 4\n",
      "- - - - - - - - - - - - - - - - - - - -\n",
      "\n",
      "- - - - - - - - - - - - - - - - - - - -\n",
      "Page Number: 5\n",
      "- - - - - - - - - - - - - - - - - - - -\n",
      "\n",
      "- - - - - - - - - - - - - - - - - - - -\n",
      "Page Number: 6\n",
      "- - - - - - - - - - - - - - - - - - - -\n",
      "\n",
      "- - - - - - - - - - - - - - - - - - - -\n",
      "Page Number: 7\n",
      "- - - - - - - - - - - - - - - - - - - -\n",
      "\n",
      "- - - - - - - - - - - - - - - - - - - -\n",
      "Page Number: 8\n",
      "- - - - - - - - - - - - - - - - - - - -\n",
      "\n",
      "- - - - - - - - - - - - - - - - - - - -\n"
     ]
    }
   ],
   "source": [
    "from PyPDF2 import PdfFileReader\n",
    "\n",
    "# open the PDF file\n",
    "pdfFile = open(r'C:\\Users\\prana\\Downloads\\CTPY_review_team_2.pdf', 'rb')\n",
    "\n",
    "# create PDFFileReader object to read the file\n",
    "pdfReader = PdfFileReader(pdfFile)\n",
    "\n",
    "print(\"PDF File name: \" + str(pdfReader.getDocumentInfo().title))\n",
    "print(\"PDF File created by: \" + str(pdfReader.getDocumentInfo().creator))\n",
    "print(\"- - - - - - - - - - - - - - - - - - - -\")\n",
    "\n",
    "numOfPages = pdfReader.getNumPages()\n",
    "\n",
    "for i in range(0, numOfPages):\n",
    "\tprint(\"Page Number: \" + str(i))\n",
    "\tprint(\"- - - - - - - - - - - - - - - - - - - -\")\n",
    "\tpageObj = pdfReader.getPage(i)\n",
    "\tprint(pageObj.extractText())\n",
    "\tprint(\"- - - - - - - - - - - - - - - - - - - -\")\n",
    "# close the PDF file object\n",
    "pdfFile.close()"
   ]
  },
  {
   "cell_type": "code",
   "execution_count": 21,
   "id": "79884be6",
   "metadata": {},
   "outputs": [
    {
     "ename": "ModuleNotFoundError",
     "evalue": "No module named 'pdftotext'",
     "output_type": "error",
     "traceback": [
      "\u001b[1;31m---------------------------------------------------------------------------\u001b[0m",
      "\u001b[1;31mModuleNotFoundError\u001b[0m                       Traceback (most recent call last)",
      "\u001b[1;32m~\\AppData\\Local\\Temp/ipykernel_15516/2440022763.py\u001b[0m in \u001b[0;36m<module>\u001b[1;34m\u001b[0m\n\u001b[1;32m----> 1\u001b[1;33m \u001b[1;32mimport\u001b[0m \u001b[0mpdftotext\u001b[0m\u001b[1;33m\u001b[0m\u001b[1;33m\u001b[0m\u001b[0m\n\u001b[0m\u001b[0;32m      2\u001b[0m \u001b[1;33m\u001b[0m\u001b[0m\n\u001b[0;32m      3\u001b[0m \u001b[1;31m# Load your PDF\u001b[0m\u001b[1;33m\u001b[0m\u001b[1;33m\u001b[0m\u001b[1;33m\u001b[0m\u001b[0m\n\u001b[0;32m      4\u001b[0m \u001b[1;32mwith\u001b[0m \u001b[0mopen\u001b[0m\u001b[1;33m(\u001b[0m\u001b[1;34m\"sample.pdf\"\u001b[0m\u001b[1;33m,\u001b[0m \u001b[1;34m\"rb\"\u001b[0m\u001b[1;33m)\u001b[0m \u001b[1;32mas\u001b[0m \u001b[0mf\u001b[0m\u001b[1;33m:\u001b[0m\u001b[1;33m\u001b[0m\u001b[1;33m\u001b[0m\u001b[0m\n\u001b[0;32m      5\u001b[0m     \u001b[0mpdf\u001b[0m \u001b[1;33m=\u001b[0m \u001b[0mpdftotext\u001b[0m\u001b[1;33m.\u001b[0m\u001b[0mPDF\u001b[0m\u001b[1;33m(\u001b[0m\u001b[0mf\u001b[0m\u001b[1;33m)\u001b[0m\u001b[1;33m\u001b[0m\u001b[1;33m\u001b[0m\u001b[0m\n",
      "\u001b[1;31mModuleNotFoundError\u001b[0m: No module named 'pdftotext'"
     ]
    }
   ],
   "source": [
    "import pdftotext\n",
    "\n",
    "# Load your PDF\n",
    "with open(\"sample.pdf\", \"rb\") as f:\n",
    "    pdf = pdftotext.PDF(f)\n",
    "\n",
    "# If it's password-protected\n",
    "#with open(\"secure.pdf\", \"rb\") as f:\n",
    "    #pdf = pdftotext.PDF(f, \"secret\")\n",
    "\n",
    "# How many pages?\n",
    "print(len(pdf))\n",
    "\n",
    "# Iterate over all the pages\n",
    "for page in pdf:\n",
    "    print(page)\n",
    "\n",
    "# Read some individual pages\n",
    "print(pdf[0])\n",
    "print(pdf[1])\n",
    "\n",
    "# Read all the text into one string\n",
    "print(\"\\n\\n\".join(pdf))"
   ]
  },
  {
   "cell_type": "code",
   "execution_count": 22,
   "id": "94a033bb",
   "metadata": {},
   "outputs": [
    {
     "name": "stdout",
     "output_type": "stream",
     "text": [
      "LBS\n",
      "1. If applicable, please explain any reasons for academic underperformance.*\n",
      "2. Have you ever received formal disciplinary action from an academic institution or been\n",
      "forced to withdraw from a course of study? If so, you must declare the information here.*\n",
      "3. Please detail any work experience that you have not highlighted already on your CV:\n",
      "4. Please detail your plans from now to the start of the programme, detailing any further work\n",
      "experience, travel, and/or further qualifications.*\n",
      "5. Please outline your experience of working or studying in an English-speaking\n",
      "environment. Do you plan to take further English language tuition before the programme\n",
      "starts?\n",
      "6. Please tell us which country/countries you hope to work in after graduation.*\n",
      "7. In 300 words or less, please describe your post-Programme career goals, telling us your\n",
      "ideal sector, role and function; and your motivation for this goal.*\n",
      "8. In 300 words or less, please describe your alternative career goals, telling us how you\n",
      "would respond in a challenging job market, how would you expand your job search to other\n",
      "roles and locations if your primary goal is unsuccessful.*\n",
      "9. In 150 words (or less), tell us about a hobby or main interest.*\n",
      "10. In 300 words or less, please tell us how will your previous experience(s) enable you to\n",
      "thrive within our School's diverse and international community?*\n",
      "11. How did you first hear about London Business School? (Max 200 characters)\n",
      "12. How did you hear about this programme? (Max 100 characters)*\n",
      "13. How have you connected with the LBS community?*\n",
      "14. MAIN. What learning outcomes are you aiming to achieve as part of your Masters in\n",
      "Management programme? What challenge(s) might you encounter? (500 words)\n",
      "15. MAIN. During your time as a Masters in Management student, how will you contribute to\n",
      "the School community? (400 words)\n",
      "INSEAD\n",
      "1. Please briefly explain any time gaps (2 months or more) since leaving high school that are\n",
      "unaccounted for in your application (40 words maximum).\n"
     ]
    }
   ],
   "source": [
    "import pdfplumber\n",
    "\n",
    "with pdfplumber.open(\"sample.pdf\") as pdf:\n",
    "    first_page = pdf.pages[0]\n",
    "    print(first_page.extract_text())\n",
    "    \n"
   ]
  },
  {
   "cell_type": "code",
   "execution_count": null,
   "id": "92ce4e1a",
   "metadata": {},
   "outputs": [],
   "source": []
  }
 ],
 "metadata": {
  "kernelspec": {
   "display_name": "Python 3 (ipykernel)",
   "language": "python",
   "name": "python3"
  },
  "language_info": {
   "codemirror_mode": {
    "name": "ipython",
    "version": 3
   },
   "file_extension": ".py",
   "mimetype": "text/x-python",
   "name": "python",
   "nbconvert_exporter": "python",
   "pygments_lexer": "ipython3",
   "version": "3.7.9"
  }
 },
 "nbformat": 4,
 "nbformat_minor": 5
}
